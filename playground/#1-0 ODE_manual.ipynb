{
 "cells": [
  {
   "cell_type": "code",
   "execution_count": 1,
   "metadata": {},
   "outputs": [],
   "source": [
    "import numpy as np\n",
    "import matplotlib.pyplot as plt\n",
    "from numba import njit"
   ]
  },
  {
   "cell_type": "code",
   "execution_count": 2,
   "metadata": {},
   "outputs": [],
   "source": [
    "\n",
    "# Define the parameters\n",
    "V0=2; V1=2; VM2=6; k2=0.1; VM3=20; kx=0.3; ky=0.2; kz=0.1; VM5=30; k5=1; kd=0.6; V4=2.5; k=10; kf=1; m=4; n=2; p=1"
   ]
  },
  {
   "cell_type": "code",
   "execution_count": 3,
   "metadata": {},
   "outputs": [],
   "source": [
    "# Define parameters\n",
    "dt = 1e-6\n",
    "tmax = 100\n",
    "Nn = round(tmax / dt)\n",
    "\n",
    "# Time array\n",
    "tT = np.arange(0, tmax + dt, dt)\n",
    "\n",
    "@njit\n",
    "def solve_system_euler(beta, epsilon, dt, tmax, V0, V1, VM2, k2, VM3, kx, ky, kz, VM5, k5, kd, V4, k, kf, m, n, p):\n",
    "    Nn = round(tmax / dt)\n",
    "    \n",
    "    # Initial conditions\n",
    "    x = np.ones(Nn + 1)\n",
    "    y = np.ones(Nn + 1)\n",
    "    z = np.ones(Nn + 1)\n",
    "    \n",
    "    # Euler discretization\n",
    "    for i in range(Nn):\n",
    "        V2 = VM2 * x[i]**2 / (k2**2 + x[i]**2)\n",
    "        V3 = VM3 * x[i]**m / (kx**m + x[i]**m) * y[i]**2 / (ky**2 + y[i]**2) * z[i]**4 / (kz**4 + z[i]**4)\n",
    "        V5 = VM5 * z[i]**p / (k5**p + z[i]**p) * x[i]**n / (kd**n + x[i]**n)\n",
    "        \n",
    "        x[i + 1] = x[i] + (V0 + V1 * beta - k * x[i] - V2 + kf * y[i] + V3) * dt\n",
    "        y[i + 1] = y[i] + (V2 - kf * y[i] - V3) * dt\n",
    "        z[i + 1] = z[i] + (V4 * beta - epsilon * z[i] - V5) * dt\n",
    "        \n",
    "    return x, y, z"
   ]
  },
  {
   "cell_type": "code",
   "execution_count": 4,
   "metadata": {},
   "outputs": [],
   "source": [
    "#beta = 0.6112770063421669; epsilon = 7.961340502554744\n",
    "beta = 0.4850; epsilon = 3.784935912705187\n",
    "x_t, y_t, z_t = solve_system_euler(beta, epsilon, dt, tmax, V0, V1, VM2, k2, VM3, kx, ky, kz, VM5, k5, kd, V4, k, kf, m, n, p)"
   ]
  },
  {
   "cell_type": "code",
   "execution_count": 5,
   "metadata": {},
   "outputs": [
    {
     "data": {
      "text/plain": [
       "[<matplotlib.lines.Line2D at 0x153dd99c76b0>]"
      ]
     },
     "execution_count": 5,
     "metadata": {},
     "output_type": "execute_result"
    },
    {
     "data": {
      "image/png": "[encoded data removed]",
      "text/plain": [
       "<Figure size 640x480 with 1 Axes>"
      ]
     },
     "metadata": {},
     "output_type": "display_data"
    }
   ],
   "source": [
    "plt.plot(x_t)"
   ]
  }
 ],
 "metadata": {
  "kernelspec": {
   "display_name": "Python 3",
   "language": "python",
   "name": "python3"
  },
  "language_info": {
   "codemirror_mode": {
    "name": "ipython",
    "version": 3
   },
   "file_extension": ".py",
   "mimetype": "text/x-python",
   "name": "python",
   "nbconvert_exporter": "python",
   "pygments_lexer": "ipython3",
   "version": "3.12.4"
  }
 },
 "nbformat": 4,
 "nbformat_minor": 2
}
